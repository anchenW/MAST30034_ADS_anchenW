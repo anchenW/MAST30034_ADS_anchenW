{
 "cells": [
  {
   "cell_type": "code",
   "execution_count": null,
   "metadata": {},
   "outputs": [],
   "source": [
    "# filter the holiday data out\n",
    "# https://www.officeholidays.com/countries/usa/new-york/2018\n",
    "holiday = clean_yellow[(clean_yellow[\"date\"] == \"10-11\")|(clean_yellow[\"date\"] == \"11-11\")|(clean_yellow[\"date\"] == \"11-25\")|(clean_yellow[\"date\"] == \"12-24\")|(clean_yellow[\"date\"] == \"12-25\")|(clean_yellow[\"date\"] == \"12-26\")]\n"
   ]
  },
  {
   "cell_type": "code",
   "execution_count": null,
   "metadata": {},
   "outputs": [],
   "source": [
    "holiday_tip = cleaned_tip[(cleaned_tip[\"date\"] == \"10-11\")|(cleaned_tip[\"date\"] == \"11-11\")|(cleaned_tip[\"date\"] == \"11-25\")|(cleaned_tip[\"date\"] == \"12-24\")|(cleaned_tip[\"date\"] == \"12-25\")|(cleaned_tip[\"date\"] == \"12-26\")]\n",
    "avg_holiday_tip = sum(holiday_tip[\"tip_amount\"])/len(holiday_tip)\n",
    "avg_holiday_tip\n",
    "# No improvement on tips on holidays"
   ]
  },
  {
   "cell_type": "code",
   "execution_count": null,
   "metadata": {},
   "outputs": [],
   "source": [
    "# average holiday pick yps\n",
    "count_holiday = holiday[\"date\"].value_counts().sort_index()\n",
    "avg_holiday = sum(count_holiday)//len(count_holiday)\n",
    "avg_holiday"
   ]
  },
  {
   "cell_type": "code",
   "execution_count": null,
   "metadata": {},
   "outputs": [],
   "source": [
    "# average non-holiday pick ups\n",
    "non_holiday = clean_yellow[(clean_yellow[\"date\"] != \"12-24\")&(clean_yellow[\"date\"] != \"12-25\")&(clean_yellow[\"date\"] !=\"12-26\")]\n"
   ]
  },
  {
   "cell_type": "code",
   "execution_count": null,
   "metadata": {},
   "outputs": [],
   "source": [
    "count_non = non_holiday[\"date\"].value_counts().sort_index()\n",
    "avg_non = sum(count_non)//len(count_non)\n",
    "avg_non"
   ]
  },
  {
   "cell_type": "code",
   "execution_count": null,
   "metadata": {},
   "outputs": [],
   "source": [
    "import matplotlib.pyplot as plt\n",
    "import numpy as np\n",
    "\n",
    "times = [avg_holiday, avg_non]\n",
    "\n",
    "labels = [\"holiday\", \"non-holiday\"]\n",
    "\n",
    "fig, ax = plt.subplots(figsize=(6, 7))\n",
    "\n",
    "holiday_bar = ax.bar(0.3, times[0], width = 0.2, label = \"holiday\")\n",
    "non_bar = ax.bar(0.7, times[1], width = 0.2, label = \"non-holidy\")\n",
    "\n",
    "ax.set_ylabel(\"Average Pick Up Times\")\n",
    "ax.set_title(\"Taxi Demand on Holidays vs Non-Holidays\")\n",
    "ax.set_xticks(np.arange(2))\n",
    "ax.legend()\n",
    "# ax.set_xticklabels(labels)\n",
    "\n",
    "ax.bar_label(holiday_bar, padding = 3)\n",
    "ax.bar_label(non_bar, padding = 3)\n",
    "\n",
    "plt.show()"
   ]
  },
  {
   "cell_type": "code",
   "execution_count": null,
   "metadata": {},
   "outputs": [],
   "source": [
    "# Over-sampling using SMOTE\n",
    "os = SMOTE(random_state=0)\n",
    "columns = X_train.columns"
   ]
  },
  {
   "cell_type": "code",
   "execution_count": null,
   "metadata": {},
   "outputs": [],
   "source": [
    "os_data_X,os_data_y=os.fit_resample(X_train, y_train)\n",
    "# os_data_X = pd.DataFrame(data=os_data_X,columns=columns )\n",
    "# os_data_y= pd.DataFrame(data=os_data_y,columns=['y'])"
   ]
  },
  {
   "cell_type": "code",
   "execution_count": null,
   "metadata": {},
   "outputs": [],
   "source": [
    "# os_data_X\n",
    "os_data_y[os_data_y == 1]\n",
    "# len(os_data_y[os_data_y['y']==1])"
   ]
  }
 ],
 "metadata": {
  "kernelspec": {
   "display_name": "Python 3",
   "language": "python",
   "name": "python3"
  },
  "language_info": {
   "codemirror_mode": {
    "name": "ipython",
    "version": 3
   },
   "file_extension": ".py",
   "mimetype": "text/x-python",
   "name": "python",
   "nbconvert_exporter": "python",
   "pygments_lexer": "ipython3",
   "version": "3.7.4"
  }
 },
 "nbformat": 4,
 "nbformat_minor": 2
}
